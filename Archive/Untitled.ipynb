{
 "cells": [
  {
   "cell_type": "code",
   "execution_count": 6,
   "id": "3858bc9c",
   "metadata": {},
   "outputs": [],
   "source": [
    "import os\n",
    "import pandas as pd\n",
    "from pathlib import Path"
   ]
  },
  {
   "cell_type": "code",
   "execution_count": 8,
   "id": "d67705ad",
   "metadata": {},
   "outputs": [
    {
     "data": {
      "text/plain": [
       "WindowsPath('Resources/bitstamp.csv')"
      ]
     },
     "execution_count": 8,
     "metadata": {},
     "output_type": "execute_result"
    }
   ],
   "source": [
    "bit_data = Path('Resources/bitstamp.csv')\n",
    "bit_data"
   ]
  },
  {
   "cell_type": "code",
   "execution_count": 4,
   "id": "6b12151d",
   "metadata": {},
   "outputs": [
    {
     "data": {
      "text/plain": [
       "['bitstamp.csv', 'coinbase.csv']"
      ]
     },
     "execution_count": 4,
     "metadata": {},
     "output_type": "execute_result"
    }
   ],
   "source": [
    "os.listdir('Resources')"
   ]
  },
  {
   "cell_type": "code",
   "execution_count": null,
   "id": "7bb71ee1",
   "metadata": {},
   "outputs": [],
   "source": []
  }
 ],
 "metadata": {
  "kernelspec": {
   "display_name": "Python 3 (ipykernel)",
   "language": "python",
   "name": "python3"
  },
  "language_info": {
   "codemirror_mode": {
    "name": "ipython",
    "version": 3
   },
   "file_extension": ".py",
   "mimetype": "text/x-python",
   "name": "python",
   "nbconvert_exporter": "python",
   "pygments_lexer": "ipython3",
   "version": "3.9.7"
  }
 },
 "nbformat": 4,
 "nbformat_minor": 5
}
